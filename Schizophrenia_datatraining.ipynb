%pip install mne tensorflow keras
