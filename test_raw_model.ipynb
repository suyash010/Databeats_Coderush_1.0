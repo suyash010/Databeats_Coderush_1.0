import pickle
import numpy as np
import tensorflow as tf

def minmax_scale_channel(channel_data):
    channel_reshaped = np.reshape(channel_data, (2, -1))
    min_vals = np.min(channel_reshaped, axis=1, keepdims=True)
    max_vals = np.max(channel_reshaped, axis=1, keepdims=True)
    scaled_channel = (channel_reshaped - min_vals) / (max_vals - min_vals)
    scaled_channel = np.reshape(scaled_channel, channel_data.shape)
    return scaled_channel

def load_and_preprocess(pkl_path):
    with open(pkl_path, 'rb') as f:
        data = pickle.load(f)
    X = np.array([d[0] for d in data])
    X_scaled = np.array([minmax_scale_channel(chunk) for chunk in X])
    X_scaled = np.reshape(X_scaled, (*X_scaled.shape, 1))
    return X_scaled

def main():
    model_path = input("Enter path to your trained model (.keras): ").strip()
    test_pkl = input("Enter path to your EEG .pkl file for testing: ").strip()
    model = tf.keras.models.load_model(model_path)
    X_test = load_and_preprocess(test_pkl)
    preds = model.predict(X_test)
    print("Predictions (0=Healthy, 1=Schizophrenia):")
    print(np.round(preds.flatten()))

if __name__ == "__main__":
    main()